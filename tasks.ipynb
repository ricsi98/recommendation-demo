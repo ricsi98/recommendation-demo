{
 "cells": [
  {
   "cell_type": "markdown",
   "metadata": {},
   "source": [
    "# 1. Loading Data:\n",
    "Load the movie metadata from the `movies.dat` file and ratings from `ratings.dat`.\n",
    "- Both files use '::' as the delimiter.\n",
    "- The files have no header.\n",
    "- The encoding for both files is ISO-8859-1."
   ]
  },
  {
   "cell_type": "code",
   "execution_count": null,
   "metadata": {
    "vscode": {
     "languageId": "plaintext"
    }
   },
   "outputs": [],
   "source": [
    "# ..."
   ]
  },
  {
   "cell_type": "markdown",
   "metadata": {},
   "source": [
    "# 2. Building User-Item Interaction Matrix and Learning Latent Factors:\n",
    "## 2.1. Building User-Item Interaction Matrix:\n",
    "Use the ratings data to build a [sparse matrix](https://docs.scipy.org/doc/scipy/tutorial/sparse.html) where rows represent users and columns represent movies, with ratings as values."
   ]
  },
  {
   "cell_type": "code",
   "execution_count": null,
   "metadata": {
    "vscode": {
     "languageId": "plaintext"
    }
   },
   "outputs": [],
   "source": [
    "# ..."
   ]
  },
  {
   "cell_type": "markdown",
   "metadata": {},
   "source": [
    "## 2.2. Learning Latent Factors:\n",
    "Choose an algorithm (e.g., [SVD](https://scikit-learn.org/stable/modules/generated/sklearn.decomposition.TruncatedSVD.html), [NMF](https://scikit-learn.org/stable/modules/generated/sklearn.decomposition.NMF.html)) to learn latent factors for movies.\n",
    "Fit the chosen model to the user-item interaction matrix to obtain the latent factors."
   ]
  },
  {
   "cell_type": "code",
   "execution_count": null,
   "metadata": {
    "vscode": {
     "languageId": "plaintext"
    }
   },
   "outputs": [],
   "source": [
    "# ..."
   ]
  },
  {
   "cell_type": "markdown",
   "metadata": {},
   "source": [
    "## 2.3. Exploring Latent Space and Plotting Movies:\n",
    "Utilize [t-SNE](https://scikit-learn.org/stable/modules/generated/sklearn.manifold.TSNE.html) (t-Distributed Stochastic Neighbor Embedding) to reduce the dimensionality of the learned latent factors and visualize them in a 2D plot.\n",
    "Label the movies with their genres."
   ]
  },
  {
   "cell_type": "code",
   "execution_count": null,
   "metadata": {
    "vscode": {
     "languageId": "plaintext"
    }
   },
   "outputs": [],
   "source": [
    "# ..."
   ]
  },
  {
   "cell_type": "markdown",
   "metadata": {},
   "source": [
    "## 2.4. Drawing Insights from the Plot:\n",
    "Analyze the clustering of movies in the latent space.\n",
    "Observe if movies of similar genres are grouped together."
   ]
  },
  {
   "cell_type": "markdown",
   "metadata": {},
   "source": [
    "# 3. Building a Recommendation System:\n",
    "## 3.1. Using Latent Factors:\n",
    "Utilize the learned latent factors to build a recommendation system. \n",
    "Employ a similarity measure (e.g., cosine similarity) to find similar movies based on latent factors. You can use the sklearn [nearest neighbors](https://scikit-learn.org/stable/modules/generated/sklearn.neighbors.NearestNeighbors.html) implementation.\n"
   ]
  },
  {
   "cell_type": "code",
   "execution_count": null,
   "metadata": {
    "vscode": {
     "languageId": "plaintext"
    }
   },
   "outputs": [],
   "source": [
    "# ..."
   ]
  },
  {
   "cell_type": "markdown",
   "metadata": {},
   "source": [
    "## 3.2. Recommending Movies:\n",
    "Recommend 5 movies for some selected movies (e.g., \"Star Wars: Episode IV - A New Hope (1977)\", \"Lion King, The (1994)\")."
   ]
  },
  {
   "cell_type": "code",
   "execution_count": null,
   "metadata": {
    "vscode": {
     "languageId": "plaintext"
    }
   },
   "outputs": [],
   "source": [
    "# ..."
   ]
  },
  {
   "cell_type": "markdown",
   "metadata": {},
   "source": [
    "# Extra: Evaluation with Train/Test Split:\n",
    "- Split the data into training and testing sets.\n",
    "- Build the recommendation system on the training set and evaluate its performance on the test set.\n",
    "- Use appropriate evaluation metrics (e.g., precision, recall, F1-score, mrr, ndcg) to assess the recommendation system's effectiveness."
   ]
  },
  {
   "cell_type": "code",
   "execution_count": null,
   "metadata": {
    "vscode": {
     "languageId": "plaintext"
    }
   },
   "outputs": [],
   "source": [
    "# ..."
   ]
  }
 ],
 "metadata": {
  "language_info": {
   "name": "python"
  }
 },
 "nbformat": 4,
 "nbformat_minor": 2
}
